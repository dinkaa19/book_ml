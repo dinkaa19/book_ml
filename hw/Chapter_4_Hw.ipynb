{
 "cells": [
  {
   "cell_type": "markdown",
   "metadata": {},
   "source": [
    "# Домашнее задание к 4 модулю"
   ]
  },
  {
   "cell_type": "markdown",
   "metadata": {},
   "source": [
    "## Задачи"
   ]
  },
  {
   "cell_type": "markdown",
   "metadata": {},
   "source": [
    "1.\tКакой алгоритм обучения линейной регрессии вы можете применить, если у вас есть обучающий набор с миллионами признаков?\n",
    "2.\tПредположим, что признаки в вашем обучающем наборе имеют очень разные масштабы. Какие алгоритмы могут пострадать от этого и как?Что вы можете с этим поделать?\n",
    "3.\tМожет ли градиентный спуск застрять в локальном минимуме при обучении логистической регрессионной модели?\n",
    "4.\tВсе ли алгоритмы градиентного спуска приводят к той же самой моде­ли при условии, что вы позволяете им выполняться достаточно долго?\n",
    "5.\tДопустим, вы используете пакетный градиентный спуск и вычерчива­ете ошибку проверки на каждой эпохе. Если вы заметите, что ошибка проверки последовательно растет, тогда что, скорее всего, происходит?Как можно это исправить?\n",
    "6.\tХороша ли идея немедленно останавливать мини-пакетный градиент­ный спуск, когда ошибка проверки возрастает?\n",
    "7.\tКакой алгоритм градиентного спуска (среди тех, которые обсуждались) быстрее всех достигнет окрестностей оптимального решения? Какой алгоритм действительно сойдется? Как вы можете заставить сойтись также остальные алгоритмы?\n",
    "8.\tПредположим, что вы применяете полиномиальную регрессию. Вы вы­черчиваете кривые обучения и замечаете крупный промежуток меж­ду ошибкой обучения и ошибкой проверки. Что произошло? Назовите три способа решения.\n",
    "9.\tДопустим, вы используете гребневую регрессию и заметили, что ошиб­ка обучения и ошибка проверки почти одинаковы и довольно высоки. Сказали бы вы, что модель страдает от высокого смещения или высо­кой дисперсии? Должны ли вы увеличить гиперпараметр регуляриза­ции а или уменьшить его?\n",
    "10.\tПочему вы захотели бы применять:\n",
    "о гребневую регрессию вместо обыкновенной линейной регрессии (т.е.без какой-либо регуляризации)? \n",
    "о лассо-регрессию вместо гребневой регрессии? о эластичную сеть вместо лассо-регрессии? \n",
    "11. Предположим, что вы хотите классифицировать фотографии как сделанные снаружи/внутри и днем/ночью. Должны ли вы реализовать два классификатора, основанные на логистической регрессии, или один классификатор на базе многопеременной логистической регрессии? \n",
    "12. Реализуйте пакетный градиентный спуск с ранним прекращением для многопеременной логистической регрессии (не используя ScikitLearn)."
   ]
  },
  {
   "cell_type": "markdown",
   "metadata": {},
   "source": [
    "## Решение "
   ]
  },
  {
   "cell_type": "markdown",
   "metadata": {},
   "source": [
    "1. При наличии обучающего набора со многими миллионами признаков вы можете применять стохастический градиентный спуск или мини-пакет­ный градиентный спуск и возможно пакетный градиентный спуск, если обучающий набор умещается в памяти. Но вы не можете использовать нормальное уравнение, потому что с увеличением количества признаков вычислительная сложность быстро растет (более чем квадратично). "
   ]
  },
  {
   "cell_type": "markdown",
   "metadata": {},
   "source": [
    "2.\tЕсли признаки в вашем обучающем наборе имеют очень разные мас­штабы, тогда функция издержек будет иметь форму вытянутой чаши, поэтому алгоритмы градиентного спуска потребуют длительного време­ни на схождение. Чтобы решить проблему, перед обучением модели вы должны масштабировать данные. Обратите внимание, что нормальное уравнение будет хорошо работать и без масштабирования. Кроме того, если признаки не масштабированы, то регуляризированные модели могут сходиться в субоптимальное решение: на самом деле, поскольку регуляризация штрафует крупные веса, признаки с меньшими значе­ниями будут игнорироваться в сравнении с признаками, имеющими более высокие значения."
   ]
  },
  {
   "cell_type": "markdown",
   "metadata": {},
   "source": [
    "3.\tГрадиентный спуск не может застрять в локальном минимуме при обу­чении логистической регрессионной модели, потому что функция из­держек является выпуклой."
   ]
  },
  {
   "cell_type": "markdown",
   "metadata": {},
   "source": [
    "4.\tЕсли задача оптимизации выпуклая (такая как линейная регрессия или логистическая регрессия) и скорость обучения не очень высока, тогда все алгоритмы градиентного спуска приведут в глобальный оптимум и в итоге выработают довольно похожие модели. Тем не менее, если только вы постепенно не снижаете скорость обучения, то стохастичес­кий градиентный спуск и мини-пакетный градиентный спуск никогда по-настоящему не сойдутся; взамен они продолжат прыжки вперед и назад возле глобального оптимума. Это означает, что даже если вы позволите им выполняться в течение очень долгого времени, упомяну­тые алгоритмы градиентного спуска будут производить слегка отлича­ющиеся модели.\n"
   ]
  },
  {
   "cell_type": "markdown",
   "metadata": {},
   "source": [
    "5.\tЕсли ошибка проверки последовательно растет после каждой эпохи, то возможно причина в том, что скорость обучения слишком высока и алгоритм расходится. Если ошибка обучения также увеличивается, тогда это ясно указывает на проблему, и вы должны снизить скорость обучения. Однако если ошибка обучения не растет, тогда модель пере­обучается обучающим набором и вы должны остановить обучение.\n"
   ]
  },
  {
   "cell_type": "markdown",
   "metadata": {},
   "source": [
    "6.\tИз-за своей случайной природы ни стохастический градиентный спуск, ни мини-пакетный градиентный спуск не гарантируют продвижения на каждой отдельно взятой итерации обучения. Следовательно, если вы немедленно прекратите обучение, когда ошибка проверки возрас­тает, то можете остановиться слишком рано, до достижения оптимума. Более удачное решение предусматривает сохранение модели через ре­гулярные интервалы, и если она не улучшается в течение долгого вре­мени (это означает, что модель возможно никогда не побьет рекорд), тогда вы можете возвратиться к наилучшей сохраненной модели.\n"
   ]
  },
  {
   "cell_type": "markdown",
   "metadata": {},
   "source": [
    "7. Стохастический градиентный спуск имеет самую быструю итерацию обучения, поскольку он рассматривает только один обучающий обра­зец за раз, так что в общем случае он первым достигнет окрестностей глобального оптимума (или мини-пакетный градиентный спуск с очень малым размером мини-пакета). Тем не менее, лишь пакетный градиен­тный спуск действительно сойдется при условии достаточно долгого времени обучения. Как упоминалось, если постепенно не снижать ско­рость обучения, то стохастический градиентный спуск и мини-пакет­ный градиентный спуск будут прыгать вокруг оптимума."
   ]
  },
  {
   "cell_type": "markdown",
   "metadata": {},
   "source": [
    "8.\tЕсли ошибка проверки намного превышает ошибку обучения, то при­чина, скорее всего, в том, что ваша модель переобучается обучающим набором. Одна попытка устранить проблему заключается в снижении полиномиальной степени: модель с меньшим числом степеней свободы менее склонна к переобучению. Другая попытка предусматривает регу­ляризацию модели - скажем, путем добавления к функции издержек штрафа i2 (гребневая регрессия) или штрафа i1 (лассо-регрессия). Это также сократит количество степеней свободы модели. Наконец, можно попробовать увеличить размер обучающего набора.\n"
   ]
  },
  {
   "cell_type": "markdown",
   "metadata": {},
   "source": [
    "9. Если ошибка обучения и ошибка проверки почти одинаковы и доволь­но высоки, то модель, вероятно, недообучается на обучающем наборе, что означает наличие у нее высокого смещения. Вы должны попробо­вать снизить гиперпараметр регуляризации а."
   ]
  },
  {
   "cell_type": "markdown",
   "metadata": {},
   "source": [
    "10. Все зависит от важнности фич."
   ]
  },
  {
   "cell_type": "markdown",
   "metadata": {},
   "source": [
    "11. Если вы хотите классифицировать фотографии как сделанные снаружи/ внутри и днем/ночью, то поскольку такие классы не являются взаимо­исключающими (т.е. возможны все четыре комбинации), потребуется обучить два классификатора, основанные на логистической регрессии. "
   ]
  },
  {
   "cell_type": "markdown",
   "metadata": {},
   "source": [
    "Реализуйте пакетный градиентный спуск с ранним прекращением для многопеременной логистической регрессии (не используя ScikitLearn)."
   ]
  },
  {
   "cell_type": "code",
   "execution_count": 20,
   "metadata": {},
   "outputs": [
    {
     "data": {
      "text/plain": [
       "['data', 'target', 'target_names', 'DESCR', 'feature_names', 'filename']"
      ]
     },
     "execution_count": 20,
     "metadata": {},
     "output_type": "execute_result"
    }
   ],
   "source": [
    "from sklearn import datasets\n",
    "iris = datasets.load_iris()\n",
    "list(iris.keys())"
   ]
  },
  {
   "cell_type": "code",
   "execution_count": 21,
   "metadata": {},
   "outputs": [],
   "source": [
    "X = iris[\"data\"][:, (2, 3)]  # petal length, petal width\n",
    "y = iris[\"target\"]"
   ]
  },
  {
   "cell_type": "code",
   "execution_count": 26,
   "metadata": {},
   "outputs": [],
   "source": [
    "# ДОбавляем 1 к X\n",
    "X_with_bias = np.c_[np.ones([len(X), 1]), X]"
   ]
  },
  {
   "cell_type": "code",
   "execution_count": 27,
   "metadata": {},
   "outputs": [],
   "source": [
    "np.random.seed(2042)"
   ]
  },
  {
   "cell_type": "code",
   "execution_count": 29,
   "metadata": {},
   "outputs": [],
   "source": [
    "# Замена train_test_split()\n",
    "test_ratio = 0.2\n",
    "validation_ratio = 0.2\n",
    "total_size = len(X_with_bias)\n",
    "\n",
    "test_size = int(total_size * test_ratio)\n",
    "validation_size = int(total_size * validation_ratio)\n",
    "train_size = total_size - test_size - validation_size\n",
    "\n",
    "rnd_indices = np.random.permutation(total_size)\n",
    "\n",
    "X_train = X_with_bias[rnd_indices[:train_size]]\n",
    "y_train = y[rnd_indices[:train_size]]\n",
    "X_valid = X_with_bias[rnd_indices[train_size:-test_size]]\n",
    "y_valid = y[rnd_indices[train_size:-test_size]]\n",
    "X_test = X_with_bias[rnd_indices[-test_size:]]\n",
    "y_test = y[rnd_indices[-test_size:]]"
   ]
  },
  {
   "cell_type": "code",
   "execution_count": 51,
   "metadata": {},
   "outputs": [],
   "source": [
    "# Способ работы с категориальными переменными, так как класса, то он возвращает 1 на одном из трех классов (истина)\n",
    "def to_one_hot(y):\n",
    "    n_classes = y.max() + 1\n",
    "    m = len(y)\n",
    "    Y_one_hot = np.zeros((m, n_classes))\n",
    "    Y_one_hot[np.arange(m), y] = 1\n",
    "    return Y_one_hot"
   ]
  },
  {
   "cell_type": "code",
   "execution_count": 52,
   "metadata": {},
   "outputs": [
    {
     "data": {
      "text/plain": [
       "array([1, 0, 0, 1, 0, 2, 1, 0, 0, 0])"
      ]
     },
     "execution_count": 52,
     "metadata": {},
     "output_type": "execute_result"
    }
   ],
   "source": [
    "y_train[:10]"
   ]
  },
  {
   "cell_type": "code",
   "execution_count": 54,
   "metadata": {},
   "outputs": [
    {
     "data": {
      "text/plain": [
       "array([[0., 1., 0.],\n",
       "       [1., 0., 0.],\n",
       "       [1., 0., 0.],\n",
       "       [0., 1., 0.],\n",
       "       [1., 0., 0.],\n",
       "       [0., 0., 1.],\n",
       "       [0., 1., 0.],\n",
       "       [1., 0., 0.],\n",
       "       [1., 0., 0.],\n",
       "       [1., 0., 0.]])"
      ]
     },
     "execution_count": 54,
     "metadata": {},
     "output_type": "execute_result"
    }
   ],
   "source": [
    "# Все работает\n",
    "to_one_hot(y_train[:10])"
   ]
  },
  {
   "cell_type": "code",
   "execution_count": 55,
   "metadata": {},
   "outputs": [],
   "source": [
    "Y_train_one_hot = to_one_hot(y_train)\n",
    "Y_valid_one_hot = to_one_hot(y_valid)\n",
    "Y_test_one_hot = to_one_hot(y_test)"
   ]
  },
  {
   "cell_type": "code",
   "execution_count": 57,
   "metadata": {},
   "outputs": [],
   "source": [
    "# Находим долю\n",
    "def softmax(logits):\n",
    "    exps = np.exp(logits)\n",
    "    exp_sums = np.sum(exps, axis=1, keepdims=True)\n",
    "    return exps / exp_sums"
   ]
  },
  {
   "cell_type": "code",
   "execution_count": 62,
   "metadata": {},
   "outputs": [],
   "source": [
    "n_inputs = X_train.shape[1] # == 3 (2 features plus the bias term)\n",
    "n_outputs = len(np.unique(y_train))   # == 3 (3 iris classes)"
   ]
  },
  {
   "cell_type": "code",
   "execution_count": 113,
   "metadata": {},
   "outputs": [
    {
     "name": "stdout",
     "output_type": "stream",
     "text": [
      "0 1.0291172244815214\n",
      "500 0.6862113453052653\n",
      "1000 0.5844339033870861\n",
      "1500 0.5217949342607463\n",
      "2000 0.4788487081138575\n",
      "2500 0.44706302301446654\n",
      "3000 0.4222232519990962\n",
      "3500 0.4020277967367801\n",
      "4000 0.3851144703653098\n",
      "4500 0.3706235647509369\n",
      "5000 0.357983654320601\n"
     ]
    }
   ],
   "source": [
    "eta = 0.01\n",
    "n_iterations = 5001\n",
    "m = len(X_train)\n",
    "epsilon = 1e-7\n",
    "\n",
    "Theta = np.random.randn(n_inputs, n_outputs)\n",
    "\n",
    "for iteration in range(n_iterations):\n",
    "    logits = X_train.dot(Theta)\n",
    "    Y_proba = softmax(logits)\n",
    "    loss = -np.mean(np.sum(Y_train_one_hot * np.log(Y_proba + epsilon), axis=1))\n",
    "    error = Y_proba - Y_train_one_hot\n",
    "    if iteration % 500 == 0:\n",
    "        print(iteration, loss)\n",
    "    gradients = 1/m * X_train.T.dot(error)\n",
    "    Theta = Theta - eta * gradients"
   ]
  },
  {
   "cell_type": "code",
   "execution_count": 114,
   "metadata": {},
   "outputs": [
    {
     "data": {
      "text/plain": [
       "0.8666666666666667"
      ]
     },
     "execution_count": 114,
     "metadata": {},
     "output_type": "execute_result"
    }
   ],
   "source": [
    "# Pridict\n",
    "logits = X_valid.dot(Theta)\n",
    "Y_proba = softmax(logits)\n",
    "y_predict = np.argmax(Y_proba, axis=1)\n",
    "\n",
    "accuracy_score = np.mean(y_predict == y_valid)\n",
    "accuracy_score"
   ]
  },
  {
   "cell_type": "markdown",
   "metadata": {},
   "source": [
    "Задание выполнено"
   ]
  },
  {
   "cell_type": "code",
   "execution_count": 137,
   "metadata": {},
   "outputs": [
    {
     "name": "stdout",
     "output_type": "stream",
     "text": [
      "0 1.5947419569228543\n",
      "500 0.5079896045776058\n",
      "1000 0.48775505948221254\n",
      "1500 0.48133169119014846\n",
      "2000 0.4788258675435326\n",
      "2500 0.4777775980865221\n",
      "3000 0.4773232107690593\n",
      "3500 0.47712213877998355\n",
      "4000 0.47703202062269995\n",
      "4500 0.4769913009358481\n",
      "5000 0.47697280413497045\n"
     ]
    }
   ],
   "source": [
    "# Улучшим модель, добавив регуляризацию\n",
    "# L2-регуляризация называется также регрессией Риджа, а L1-регуляризация – лассо-регрессией.\n",
    "\n",
    "eta = 0.1\n",
    "n_iterations = 5001\n",
    "m = len(X_train)\n",
    "epsilon = 1e-7\n",
    "alpha = 0.1  # regularization hyperparameter\n",
    "\n",
    "Theta = np.random.randn(n_inputs, n_outputs)\n",
    "\n",
    "for iteration in range(n_iterations):\n",
    "    logits = X_train.dot(Theta)\n",
    "    Y_proba = softmax(logits)\n",
    "    xentropy_loss = -np.mean(np.sum(Y_train_one_hot * np.log(Y_proba + epsilon), axis=1))\n",
    "    l2_loss = 1/2 * np.sum(np.square(Theta[1:]))\n",
    "    loss = xentropy_loss + alpha * l2_loss\n",
    "    error = Y_proba - Y_train_one_hot\n",
    "    if iteration % 500 == 0:\n",
    "        print(iteration, loss)\n",
    "    gradients = 1/m * X_train.T.dot(error) + np.r_[np.zeros([1, n_outputs]), alpha * Theta[1:]]\n",
    "    Theta = Theta - eta * gradients\n"
   ]
  },
  {
   "cell_type": "code",
   "execution_count": 138,
   "metadata": {},
   "outputs": [
    {
     "data": {
      "text/plain": [
       "0.9333333333333333"
      ]
     },
     "execution_count": 138,
     "metadata": {},
     "output_type": "execute_result"
    }
   ],
   "source": [
    "logits = X_valid.dot(Theta)\n",
    "Y_proba = softmax(logits)\n",
    "y_predict = np.argmax(Y_proba, axis=1)\n",
    "\n",
    "accuracy_score = np.mean(y_predict == y_valid)\n",
    "accuracy_score"
   ]
  },
  {
   "cell_type": "code",
   "execution_count": 134,
   "metadata": {
    "scrolled": true
   },
   "outputs": [
    {
     "name": "stdout",
     "output_type": "stream",
     "text": [
      "0 7.041182878067459\n",
      "500 0.6025958751662116\n",
      "1000 0.5815747851653477\n",
      "1500 0.5737701654276729\n",
      "2000 0.5703766082711925\n",
      "2500 0.5687712617609886\n",
      "3000 0.5679603751959903\n",
      "3500 0.5675268519470317\n",
      "4000 0.5672831556899953\n",
      "4500 0.5671400856149591\n",
      "5000 0.5670529939136075\n",
      "5500 0.5669984214675031\n",
      "6000 0.5669634571618107\n",
      "6500 0.5669406825448642\n",
      "7000 0.5669256693907511\n",
      "7500 0.56691568822601\n",
      "8000 0.5669090128991948\n",
      "8500 0.5669045300593972\n",
      "9000 0.5669015110446359\n",
      "9500 0.5668994739066882\n",
      "10000 0.5668980974863177\n",
      "10500 0.5668971666494673\n",
      "11000 0.5668965367627967\n",
      "11500 0.5668961103481016\n",
      "12000 0.5668958215963255\n",
      "12500 0.5668956260271396\n",
      "13000 0.5668954935525305\n",
      "13500 0.566895403809003\n",
      "14000 0.5668953430095649\n",
      "14500 0.5668953018174991\n",
      "15000 0.5668952739088063\n",
      "15500 0.566895254999592\n",
      "16000 0.5668952421877095\n",
      "16500 0.5668952335069819\n",
      "17000 0.5668952276252965\n",
      "17500 0.566895223640105\n",
      "18000 0.5668952209398936\n",
      "18500 0.5668952191103322\n",
      "19000 0.5668952178706884\n",
      "19500 0.5668952170307506\n",
      "20000 0.566895216461639\n",
      "20500 0.5668952160760291\n",
      "21000 0.5668952158147536\n",
      "21500 0.5668952156377225\n",
      "22000 0.5668952155177723\n",
      "22500 0.5668952154364983\n",
      "23000 0.56689521538143\n",
      "23500 0.5668952153441176\n",
      "24000 0.566895215318836\n",
      "24500 0.566895215301706\n",
      "25000 0.5668952152900995\n",
      "25500 0.5668952152822352\n",
      "26000 0.5668952152769067\n",
      "26500 0.5668952152732961\n",
      "27000 0.56689521527085\n",
      "27500 0.5668952152691925\n",
      "28000 0.5668952152680693\n",
      "28500 0.5668952152673083\n",
      "29000 0.5668952152667928\n",
      "29500 0.5668952152664435\n",
      "30000 0.5668952152662066\n",
      "30059 0.5668952152661841\n",
      "30060 0.5668952152661841 early stopping!\n"
     ]
    }
   ],
   "source": [
    "# Добавим раннее прекращение\n",
    "eta = 0.1 \n",
    "n_iterations = 50001\n",
    "m = len(X_train)\n",
    "epsilon = 1e-7\n",
    "alpha = 0.1  # regularization hyperparameter\n",
    "best_loss = np.infty\n",
    "\n",
    "Theta = np.random.randn(n_inputs, n_outputs)\n",
    "\n",
    "for iteration in range(n_iterations):\n",
    "    logits = X_train.dot(Theta)\n",
    "    Y_proba = softmax(logits)\n",
    "    xentropy_loss = -np.mean(np.sum(Y_train_one_hot * np.log(Y_proba + epsilon), axis=1))\n",
    "    l2_loss = 1/2 * np.sum(np.square(Theta[1:]))\n",
    "    loss = xentropy_loss + alpha * l2_loss\n",
    "    error = Y_proba - Y_train_one_hot\n",
    "    gradients = 1/m * X_train.T.dot(error) + np.r_[np.zeros([1, n_outputs]), alpha * Theta[1:]]\n",
    "    Theta = Theta - eta * gradients\n",
    "\n",
    "    logits = X_valid.dot(Theta)\n",
    "    Y_proba = softmax(logits)\n",
    "    xentropy_loss = -np.mean(np.sum(Y_valid_one_hot * np.log(Y_proba + epsilon), axis=1))\n",
    "    l2_loss = 1/2 * np.sum(np.square(Theta[1:]))\n",
    "    loss = xentropy_loss + alpha * l2_loss\n",
    "    if iteration % 500 == 0:\n",
    "        print(iteration, loss)\n",
    "    if loss < best_loss:\n",
    "        best_loss = loss\n",
    "    else:\n",
    "        print(iteration - 1, best_loss)\n",
    "        print(iteration, loss, \"early stopping!\")\n",
    "        break"
   ]
  },
  {
   "cell_type": "code",
   "execution_count": 135,
   "metadata": {},
   "outputs": [
    {
     "data": {
      "text/plain": [
       "0.9333333333333333"
      ]
     },
     "execution_count": 135,
     "metadata": {},
     "output_type": "execute_result"
    }
   ],
   "source": [
    "logits = X_valid.dot(Theta)\n",
    "Y_proba = softmax(logits)\n",
    "y_predict = np.argmax(Y_proba, axis=1)\n",
    "\n",
    "accuracy_score = np.mean(y_predict == y_valid)\n",
    "accuracy_score"
   ]
  },
  {
   "cell_type": "code",
   "execution_count": 136,
   "metadata": {},
   "outputs": [
    {
     "data": {
      "image/png": "[encoded data removed]",
      "text/plain": [
       "<Figure size 720x288 with 1 Axes>"
      ]
     },
     "metadata": {
      "needs_background": "light"
     },
     "output_type": "display_data"
    }
   ],
   "source": [
    "x0, x1 = np.meshgrid(\n",
    "        np.linspace(0, 8, 500).reshape(-1, 1),\n",
    "        np.linspace(0, 3.5, 200).reshape(-1, 1),\n",
    "    )\n",
    "X_new = np.c_[x0.ravel(), x1.ravel()]\n",
    "X_new_with_bias = np.c_[np.ones([len(X_new), 1]), X_new]\n",
    "\n",
    "logits = X_new_with_bias.dot(Theta)\n",
    "Y_proba = softmax(logits)\n",
    "y_predict = np.argmax(Y_proba, axis=1)\n",
    "\n",
    "zz1 = Y_proba[:, 1].reshape(x0.shape)\n",
    "zz = y_predict.reshape(x0.shape)\n",
    "\n",
    "plt.figure(figsize=(10, 4))\n",
    "plt.plot(X[y==2, 0], X[y==2, 1], \"g^\", label=\"Iris-Virginica\")\n",
    "plt.plot(X[y==1, 0], X[y==1, 1], \"bs\", label=\"Iris-Versicolor\")\n",
    "plt.plot(X[y==0, 0], X[y==0, 1], \"yo\", label=\"Iris-Setosa\")\n",
    "\n",
    "from matplotlib.colors import ListedColormap\n",
    "custom_cmap = ListedColormap(['#fafab0','#9898ff','#a0faa0'])\n",
    "\n",
    "plt.contourf(x0, x1, zz, cmap=custom_cmap)\n",
    "contour = plt.contour(x0, x1, zz1, cmap=plt.cm.brg)\n",
    "plt.clabel(contour, inline=1, fontsize=12)\n",
    "plt.xlabel(\"Petal length\", fontsize=14)\n",
    "plt.ylabel(\"Petal width\", fontsize=14)\n",
    "plt.legend(loc=\"upper left\", fontsize=14)\n",
    "plt.axis([0, 7, 0, 3.5])\n",
    "plt.show()"
   ]
  },
  {
   "cell_type": "code",
   "execution_count": null,
   "metadata": {},
   "outputs": [],
   "source": []
  }
 ],
 "metadata": {
  "kernelspec": {
   "display_name": "Python 3",
   "language": "python",
   "name": "python3"
  },
  "language_info": {
   "codemirror_mode": {
    "name": "ipython",
    "version": 3
   },
   "file_extension": ".py",
   "mimetype": "text/x-python",
   "name": "python",
   "nbconvert_exporter": "python",
   "pygments_lexer": "ipython3",
   "version": "3.7.3"
  }
 },
 "nbformat": 4,
 "nbformat_minor": 2
}
